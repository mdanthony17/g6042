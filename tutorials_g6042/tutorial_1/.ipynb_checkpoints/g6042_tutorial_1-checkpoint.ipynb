{
 "cells": [
  {
   "cell_type": "code",
   "execution_count": 1,
   "metadata": {
    "collapsed": true
   },
   "outputs": [],
   "source": [
    "import numpy as np\n",
    "import scipy, scipy.stats"
   ]
  },
  {
   "cell_type": "code",
   "execution_count": 2,
   "metadata": {
    "collapsed": true
   },
   "outputs": [],
   "source": [
    "# keeps plots inside shell\n",
    "%matplotlib inline\n",
    "import matplotlib.pyplot as plt"
   ]
  },
  {
   "cell_type": "code",
   "execution_count": 3,
   "metadata": {
    "collapsed": false
   },
   "outputs": [
    {
     "name": "stderr",
     "output_type": "stream",
     "text": [
      "/opt/local/Library/Frameworks/Python.framework/Versions/2.7/lib/python2.7/site-packages/pandas/computation/__init__.py:19: UserWarning: The installed version of numexpr 2.4.4 is not supported in pandas and will be not be used\n",
      "\n",
      "  UserWarning)\n"
     ]
    }
   ],
   "source": [
    "import pandas as pd"
   ]
  },
  {
   "cell_type": "markdown",
   "metadata": {},
   "source": [
    "# __Binomial Distribution__"
   ]
  },
  {
   "cell_type": "code",
   "execution_count": 4,
   "metadata": {
    "collapsed": true
   },
   "outputs": [],
   "source": [
    "# Bernouli trial is just a fancy name for an experiment \n",
    "# with two possible outcomes given by a fixed probability\n",
    "# ex: coin flip\n",
    "def perform_bernouli_trials(num_trials, prob_success):\n",
    "    num_successes = 0\n",
    "    for i in xrange(num_trials):\n",
    "        if np.random.rand() < prob_success:\n",
    "            num_successes +=1\n",
    "            \n",
    "    return num_successes"
   ]
  },
  {
   "cell_type": "code",
   "execution_count": 5,
   "metadata": {
    "collapsed": true
   },
   "outputs": [],
   "source": [
    "# Binomial describes the distribution of successes of \n",
    "# a fixed number of Bernouli trials\n",
    "# ex: what is probability of getting 2 heads in 10 coin flips\n",
    "# num_expts describes each game where I flip 10 coins\n",
    "num_expts = 10 # number of experiments we will perform\n",
    "num_trials = 10 # number of coin flips per experiment\n",
    "prob_success = 0.5\n",
    "\n",
    "# we will use a List to keep track of the number of successes in each experiment\n",
    "# if you can, always initialize your list instead of appending to it\n",
    "l_num_successes = [0 for i in xrange(num_expts)]\n",
    "for i in xrange(num_expts):\n",
    "    l_num_successes[i] = perform_bernouli_trials(num_trials, prob_success)"
   ]
  },
  {
   "cell_type": "code",
   "execution_count": 6,
   "metadata": {
    "collapsed": false
   },
   "outputs": [
    {
     "data": {
      "image/png": "[encoded data removed]",
      "text/plain": [
       "<matplotlib.figure.Figure at 0x108899150>"
      ]
     },
     "metadata": {},
     "output_type": "display_data"
    }
   ],
   "source": [
    "# \"_ = \" just hides the output in matplotlib by saving\n",
    "# what is returned in a variable we won't ever use\n",
    "_ = plt.hist(l_num_successes, bins=11, range=(-0.5, 10.5), normed=True)\n",
    "a_possible_successes = np.linspace(0, 10, 11)\n",
    "a_prob = scipy.stats.binom.pmf(a_possible_successes, num_trials, prob_success)\n",
    "_ = plt.plot(a_possible_successes, a_prob)"
   ]
  },
  {
   "cell_type": "markdown",
   "metadata": {},
   "source": [
    "You should play with the number of experiments - how do you expect the relationship between the theoretical and our experimental distribution to change as we increase the number of statistics? "
   ]
  },
  {
   "cell_type": "markdown",
   "metadata": {},
   "source": [
    "# __Poisson Distribution__"
   ]
  },
  {
   "cell_type": "markdown",
   "metadata": {},
   "source": [
    "The Poisson distribution is a discrete probability distribution that expresses the probability of a given number of events occurring in a fixed interval of time and/or space if these events occur with a known average rate and independently of the time since the last event.  What does this jargon really mean though?"
   ]
  },
  {
   "cell_type": "markdown",
   "metadata": {},
   "source": [
    "The Poisson distribution, in its most basic form is an approximation of the Binomial distribution.  You can actually easily derive the complicated expression for the Poisson distribution by breaking down a given time intervals into small enough chunks such that they can be thought of as individual Bernouli trials."
   ]
  },
  {
   "cell_type": "markdown",
   "metadata": {},
   "source": [
    "More specifically, you can use the Poisson distribution to approximate a binomial distribution as the number of trials goes to infinity and the success probability goes to zero.  In reality, for macroscopic situations, you don't really need to consider the Poisson distribution as an approximation and can typically just use the rate."
   ]
  },
  {
   "cell_type": "code",
   "execution_count": null,
   "metadata": {
    "collapsed": false
   },
   "outputs": [],
   "source": [
    "# how can we predict the number of tweets Trump will send out in a day?\n",
    "# 12/11/16-2/8/17\n",
    "l_num_tweets = [6, 9, 6, 1, 6, 4, 7, 1, 5, 3, 4, 5, 6, 4, 2, 5, 2, 4, 1, \n",
    "                3, 3, 6, 7, 11, 9, 9, 11, 7, 6, 8, 6, 6, 4, 8, 5, 8, 4, \n",
    "                10, 10, 8, 11, 3, 4, 1, 8, 8, 6, 7, 4, 7, 8, 4, 4, 6, 8, 10, 4, 6, 3, 4]\n",
    "# we will use the arithmentic mean to approximate the mean of the Poisson distribution\n",
    "avg_num_tweets = np.mean(l_num_tweets)\n",
    "# notice that I am forcefully setting an upper limit on the range\n",
    "# but in theory the distribution continues to infinity\n",
    "a_possible_tweets = np.linspace(0, 12, 13)\n",
    "a_prob_num_tweets = scipy.stats.poisson.pmf(a_possible_tweets, avg_num_tweets)\n",
    "_ = plt.hist(l_num_tweets, bins=13, range=(-0.5, 12.5), normed=True)\n",
    "_ = plt.plot(a_possible_tweets, a_prob_num_tweets)"
   ]
  },
  {
   "cell_type": "code",
   "execution_count": null,
   "metadata": {
    "collapsed": false
   },
   "outputs": [],
   "source": [
    "# on a serious note, let's use an example from physics\n",
    "# let's say 10M particles pass through your detector and\n",
    "# the probability of detecting a single particle is 1e-6 (0.0001%)\n",
    "# what does your distribution look like?\n",
    "num_particles = 1e7\n",
    "prob_detection = 1e-6\n",
    "a_possible_num_particles = np.linspace(0, int(3*num_particles*prob_detection), int(3*num_particles*prob_detection)+1)\n",
    "a_probs_binom = scipy.stats.binom.pmf(a_possible_num_particles, num_particles, prob_detection)\n",
    "# parameter for Poisson is the mean so let's use the expectation value of\n",
    "# the Binomial distribution \\mu = n*p\n",
    "a_probs_poisson = scipy.stats.poisson.pmf(a_possible_num_particles, num_particles*prob_detection)\n",
    "_ = plt.plot(a_possible_num_particles, a_probs_binom, 'g-')\n",
    "_ = plt.plot(a_possible_num_particles, a_probs_poisson, 'b--')"
   ]
  },
  {
   "cell_type": "markdown",
   "metadata": {},
   "source": [
    "# __Gaussian Distribution's Relation to Binomial and Poisson Distributions__"
   ]
  },
  {
   "cell_type": "markdown",
   "metadata": {},
   "source": [
    "Since you all have likely dealt with the normal distribution before, we're not going to spend a lot of time on it.. Instead, we will talk about the relationship it has with the binomial and poisson distributions."
   ]
  },
  {
   "cell_type": "markdown",
   "metadata": {},
   "source": [
    "One thing that you need to be careful about though is the fact that both the binomial and Poisson distributions are discrete while a gaussian is a continuous distribution.  When drawing random numbers (something we will get to later) this is not usually a large issue (one can simply round with little associated error) but when talking about probabilities you must be very careful.  Also note that while both the binomial and Poisson distributions can only assign a probability to values greater than zero, the gaussian has a non-zero PDF at all points."
   ]
  },
  {
   "cell_type": "markdown",
   "metadata": {},
   "source": [
    "First, we will start with the binomial distribution.  The binomial distribution can be approximated by a gaussian as the number of trials becomes very large.  You do not need an assertion on the the probability of success."
   ]
  },
  {
   "cell_type": "code",
   "execution_count": null,
   "metadata": {
    "collapsed": false
   },
   "outputs": [],
   "source": [
    "# same example as above with increased probability\n",
    "num_particles = 1e7\n",
    "prob_detection = 1e-3\n",
    "\n",
    "binom_mean = num_particles*prob_detection\n",
    "binom_std = (num_particles*prob_detection*(1-prob_detection))**0.5\n",
    "lb_plot = int(binom_mean - 4*binom_std)\n",
    "ub_plot = int(binom_mean + 4*binom_std)\n",
    "\n",
    "a_possible_num_particles = np.linspace(lb_plot, ub_plot, \n",
    "                                       (ub_plot - lb_plot)+1)\n",
    "a_probs_binom = scipy.stats.binom.pmf(a_possible_num_particles, num_particles, prob_detection)\n",
    "# parameter for Poisson is the mean so let's use the expectation value of\n",
    "# the Binomial distribution \\mu = n*p\n",
    "a_probs_normal = scipy.stats.norm.pdf(a_possible_num_particles, binom_mean, binom_std)\n",
    "_ = plt.plot(a_possible_num_particles, a_probs_binom, 'g-')\n",
    "_ = plt.plot(a_possible_num_particles, a_probs_normal, 'r--')"
   ]
  },
  {
   "cell_type": "markdown",
   "metadata": {},
   "source": [
    "Forgetting about the binomial distribution momentarily, we can also examine the normal approximation of the Poisson distribution.  Here, the only requirement is that our single parameter, mu, is large."
   ]
  },
  {
   "cell_type": "code",
   "execution_count": null,
   "metadata": {
    "collapsed": false
   },
   "outputs": [],
   "source": [
    "poisson_mean = 1000\n",
    "poisson_std = poisson_mean**0.5\n",
    "\n",
    "lb_plot = int(poisson_mean - 4*poisson_std)\n",
    "ub_plot = int(poisson_mean + 4*poisson_std)\n",
    "\n",
    "a_points = np.linspace(lb_plot, ub_plot, (ub_plot - lb_plot)+1)\n",
    "a_probs_poisson = scipy.stats.poisson.pmf(a_points, poisson_mean)\n",
    "a_probs_normal = scipy.stats.norm.pdf(a_points, poisson_mean, poisson_std)\n",
    "\n",
    "_ = plt.plot(a_points, a_probs_poisson, 'b-')\n",
    "_ = plt.plot(a_points, a_probs_normal, 'r--')"
   ]
  },
  {
   "cell_type": "markdown",
   "metadata": {},
   "source": [
    "Proving these approximations is one of those problems that every physicist should do once in their life so I highly encourage you to give it a try!"
   ]
  },
  {
   "cell_type": "markdown",
   "metadata": {},
   "source": [
    "# __Unbinned Likelihood Fit__"
   ]
  },
  {
   "cell_type": "markdown",
   "metadata": {},
   "source": [
    "While useful, an unbinned likelihood fit (like the one we will perform in this example) are less common in physics.  On the other hand, they are definitely worth seeing and will hopefully help you get a better understanding of maximum likelihood estimation in theory and in practice!"
   ]
  },
  {
   "cell_type": "markdown",
   "metadata": {},
   "source": [
    "Seemingly contradicting the above, unbinned analyses are typically preferred because they are more precise.  When you bin data in a histogram, you are losing information!  However, in physics, you are typically dealing with huge datasets so you must sacrifice some of the information for practical purposes.  Usually the effect of binning is very small though so it's not a big issue.  Also, unbinned analyses are only practical where you can talk about a PDF at every point in the space you care about.  Most times you can get around this by approximating the PDF with some gaussian mixture but sometimes you can't.  While this lack of an analytical model makes analyses much more difficult for binned data, they are still possible."
   ]
  },
  {
   "cell_type": "markdown",
   "metadata": {},
   "source": [
    "In this part of the tutorial we will fit for both parameters of a gaussian.  We will create our data via simulation."
   ]
  },
  {
   "cell_type": "code",
   "execution_count": null,
   "metadata": {
    "collapsed": false
   },
   "outputs": [],
   "source": [
    "true_mean = 30\n",
    "true_std = 6\n",
    "num_data_pts = 200\n",
    "random_seed = 0\n",
    "\n",
    "lb_plot = true_mean - 4*true_std\n",
    "ub_plot = true_mean + 4*true_std\n",
    "\n",
    "a_data = scipy.stats.norm.rvs(loc=true_mean, scale=true_std, size=num_data_pts, random_state=random_seed)\n",
    "\n",
    "_ = plt.hist(a_data, bins=20, range=(lb_plot, ub_plot), normed=True)"
   ]
  },
  {
   "cell_type": "code",
   "execution_count": null,
   "metadata": {
    "collapsed": true
   },
   "outputs": [],
   "source": [
    "# now we need to define the likelihood function\n",
    "# since all points are drawn from the same distribution \n",
    "# (unlike our example from last week), our function \n",
    "# is much simpler\n",
    "def ln_likelihood_normal(a_data, mean_test, std_test):\n",
    "    #print a_data\n",
    "    #print mean_test, std_test\n",
    "    return np.sum(scipy.stats.norm.logpdf(a_data, loc=mean_test, scale=std_test))"
   ]
  },
  {
   "cell_type": "code",
   "execution_count": null,
   "metadata": {
    "collapsed": false
   },
   "outputs": [],
   "source": [
    "num_parameter_pts = 50\n",
    "percent_level_away = 0.1\n",
    "a_means = np.linspace(true_mean*(1-percent_level_away/2.), true_mean*(1+percent_level_away/2.), num_parameter_pts)\n",
    "a_stds = np.linspace(true_std*(1-percent_level_away), true_std*(1+percent_level_away), num_parameter_pts)\n",
    "a_means, a_stds = np.meshgrid(a_means, a_stds)\n",
    "# convert arrays to 50x50 arrays\n",
    "\n",
    "a_likelihoods = np.zeros(a_means.shape)\n",
    "\n",
    "for index, _ in np.ndenumerate(a_means):\n",
    "    a_likelihoods[index] = ln_likelihood_normal(a_data, a_means[index], a_stds[index])\n",
    "    \n",
    "max_likelihood = np.max(a_likelihoods)\n",
    "max_args = np.unravel_index(np.argmax(a_likelihoods), a_likelihoods.shape)\n",
    "a_likelihoods = 2*(max_likelihood - a_likelihoods)\n",
    "\n",
    "l_levels = [1, 2, 3]\n",
    "c_likelihood = plt.contour(a_means, a_stds, a_likelihoods, l_levels)\n",
    "_ = plt.clabel(c_likelihood, inline=1, fontsize=10, fmt='%.1f')\n",
    "_ = plt.title(r'$2 \\Delta ln(L)$')\n",
    "_ = plt.xlabel('Mean')\n",
    "_ = plt.ylabel('Std')\n",
    "\n",
    "_ = plt.scatter(true_mean, true_std, marker='x', s=80)\n",
    "#_ = plt.annotate('True Value', xy=(true_mean, true_std))\n",
    "\n",
    "_ = plt.scatter(a_means[max_args], a_stds[max_args], marker='o', s=80)"
   ]
  },
  {
   "cell_type": "markdown",
   "metadata": {},
   "source": [
    "So how do we deal with the uncertainty on our best fit parameters?  It's not as straight forward as before!  Now we have a circle of points at 1/2 below the maximum log-likelihood.  The simplest, but least correct way to handle this, is to project into 1 dimension for each parameter and treat the uncertainties as independent.  A much better way of handling the uncertainty, though, is to approximate our likelihood function as a 2D gaussian and use our likelihood measurements in the grid to determine the covariance matrix.  Remember, nothing says that the uncertainties of the two parameters will not be related.  In fact, quite generally there will be a correlation between the two uncertainties."
   ]
  },
  {
   "cell_type": "markdown",
   "metadata": {
    "collapsed": true
   },
   "source": [
    "In practice, when you use any sort of software package the covariance matrix will be estiamted for you!  It's up to you to determine if the covariance matrix is appropriate though..."
   ]
  },
  {
   "cell_type": "markdown",
   "metadata": {},
   "source": [
    "# __Questions__"
   ]
  },
  {
   "cell_type": "markdown",
   "metadata": {},
   "source": [
    "1.  Can you see any major downside to how we are finding the maximum likelihood?\n",
    "2.  Can you explain what our innermost contour represents?"
   ]
  },
  {
   "cell_type": "code",
   "execution_count": null,
   "metadata": {
    "collapsed": true
   },
   "outputs": [],
   "source": []
  }
 ],
 "metadata": {
  "kernelspec": {
   "display_name": "Python 2",
   "language": "python",
   "name": "python2"
  },
  "language_info": {
   "codemirror_mode": {
    "name": "ipython",
    "version": 2
   },
   "file_extension": ".py",
   "mimetype": "text/x-python",
   "name": "python",
   "nbconvert_exporter": "python",
   "pygments_lexer": "ipython2",
   "version": "2.7.10"
  }
 },
 "nbformat": 4,
 "nbformat_minor": 0
}
